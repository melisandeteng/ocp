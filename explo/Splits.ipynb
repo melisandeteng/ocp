{
 "cells": [
  {
   "cell_type": "code",
   "execution_count": null,
   "metadata": {},
   "outputs": [],
   "source": [
    "import pickle\n",
    "import numpy as np\n",
    "import ase.io\n",
    "from ase.io import extxyz\n",
    "from ase.build import fcc100, add_adsorbate, molecule\n",
    "from ase import Atoms\n",
    "from ase.calculators.emt import EMT\n",
    "from ase.visualize.plot import plot_atoms\n",
    "import matplotlib.pyplot as plt\n",
    "import os\n",
    "\n",
    "import ase.io\n",
    "from ase.build import bulk\n",
    "from ase.build import fcc100, add_adsorbate, molecule\n",
    "from ase.constraints import FixAtoms\n",
    "from ase.calculators.emt import EMT\n",
    "from ase.optimize import BFGS\n",
    "import matplotlib.pyplot as plt\n",
    "import lmdb\n",
    "import pickle\n",
    "from tqdm import tqdm\n",
    "import torch\n",
    "import os\n",
    "from pymatgen.core.composition import Composition\n",
    "from ocpmodels.preprocessing import AtomsToGraphs\n",
    "from ocpmodels.datasets import SinglePointLmdbDataset, TrajectoryLmdbDataset\n",
    "dic_ads = pickle.load(open('/Users/rimassouel/Documents/ocp/explo/mapping_adslab_slab.pkl','rb'))\n",
    "dic_data = pickle.load(open('/Users/rimassouel/Documents/ocp/explo/oc20_data_mapping.pkl','rb'))\n",
    "\n"
   ]
  },
  {
   "cell_type": "code",
   "execution_count": 18,
   "metadata": {},
   "outputs": [],
   "source": [
    "ALL_LIST = []\n",
    "with open('to_extract.txt', 'r') as f : \n",
    "    lines = f.readlines()\n",
    "    for line in lines : \n",
    "        a = line.split('/')[-1].split('.')[0]\n",
    "        ALL_LIST.append(a)\n",
    "        "
   ]
  },
  {
   "cell_type": "code",
   "execution_count": 19,
   "metadata": {},
   "outputs": [],
   "source": [
    "OH_list = []\n",
    "C1_list = []\n",
    "\n",
    "OH_ad = []\n",
    "C1_ad = []\n",
    "for id in ALL_LIST :\n",
    "    ads = dic_data[id]['ads_symbols']\n",
    "    ads = ads.replace('*', '')\n",
    "    comp = Composition(ads)\n",
    "    formula = (comp.formula).split(' ')\n",
    "    formula_no_digit = formula.copy()\n",
    "    for j in range(len(formula)):\n",
    "        formula_no_digit[j] = ''.join([i for i in formula[j] if not i.isdigit()])\n",
    "\n",
    "\n",
    "\n",
    "    if 'N' not in formula_no_digit :\n",
    "        if 'C' not in formula_no_digit :\n",
    "            OH_list.append(id)\n",
    "            OH_ad.append(ads)\n",
    "        elif 'C2' not in formula :\n",
    "            and formula != 'CH2OH'\n",
    "            C1_list.append(id)\n",
    "            C1_ad.append(ads)\n"
   ]
  },
  {
   "cell_type": "markdown",
   "metadata": {},
   "source": [
    "## Adsobates splits"
   ]
  },
  {
   "cell_type": "code",
   "execution_count": 20,
   "metadata": {},
   "outputs": [
    {
     "name": "stdout",
     "output_type": "stream",
     "text": [
      "['H' 'O' 'OH' 'OH2']\n",
      "['C' 'CH2' 'CH2O' 'CH2OH' 'CH3' 'CH4' 'CHOH' 'OCH3' 'OHCH3']\n"
     ]
    }
   ],
   "source": [
    "uniques_oh, count_oh = np.unique(OH_ad, return_counts=True)\n",
    "uniques_c1, count_c1 = np.unique(C1_ad, return_counts=True)\n",
    "\n",
    "print(uniques_oh)\n",
    "print(uniques_c1)"
   ]
  },
  {
   "cell_type": "code",
   "execution_count": 21,
   "metadata": {},
   "outputs": [
    {
     "data": {
      "text/plain": [
       "Text(0.5, 1.0, 'distribution of O/H -based adsorbates')"
      ]
     },
     "execution_count": 21,
     "metadata": {},
     "output_type": "execute_result"
    },
    {
     "data": {
      "image/png": "[encoded data removed]",
      "text/plain": [
       "<Figure size 1080x576 with 1 Axes>"
      ]
     },
     "metadata": {
      "needs_background": "light"
     },
     "output_type": "display_data"
    }
   ],
   "source": [
    "plt.figure(figsize=(15,8))\n",
    "plt.bar([ ad for ad in uniques_oh], count_oh, color='g')\n",
    "plt.title('distribution of O/H -based adsorbates')"
   ]
  },
  {
   "cell_type": "code",
   "execution_count": 22,
   "metadata": {},
   "outputs": [
    {
     "data": {
      "text/plain": [
       "Text(0.5, 1.0, 'distribution of C1 -based adsorbates')"
      ]
     },
     "execution_count": 22,
     "metadata": {},
     "output_type": "execute_result"
    },
    {
     "data": {
      "image/png": "[encoded data removed]",
      "text/plain": [
       "<Figure size 1080x576 with 1 Axes>"
      ]
     },
     "metadata": {
      "needs_background": "light"
     },
     "output_type": "display_data"
    }
   ],
   "source": [
    "plt.figure(figsize=(15,8))\n",
    "plt.bar([ ad for ad in uniques_c1], count_c1, color='g')\n",
    "plt.title('distribution of C1 -based adsorbates')"
   ]
  },
  {
   "cell_type": "code",
   "execution_count": 23,
   "metadata": {},
   "outputs": [],
   "source": [
    "AD_TRAIN = ['H' ,'O' ,'OH','C' ,'CH2', 'CH2O', 'CHOH']\n",
    "AD_VAL = ['CH3' ,'OCH3' ]\n",
    "AD_TEST = ['OHCH3','OH2','CH4' ]"
   ]
  },
  {
   "cell_type": "markdown",
   "metadata": {},
   "source": [
    "## Ads dics"
   ]
  },
  {
   "cell_type": "code",
   "execution_count": 24,
   "metadata": {},
   "outputs": [],
   "source": [
    "dic_train = {}\n",
    "dic_val = {}\n",
    "dic_test = {}\n",
    "\n",
    "for file, ad in zip(OH_list, OH_ad) :\n",
    "    if ad in AD_TRAIN : \n",
    "        if ad in dic_train :\n",
    "            dic_train[ad].append(file)\n",
    "        else : \n",
    "            dic_train[ad] = [file]\n",
    "    elif ad in AD_VAL : \n",
    "        if ad in dic_val :\n",
    "            dic_val[ad].append(file)\n",
    "        else : \n",
    "            dic_val[ad] = [file]\n",
    "    else : \n",
    "        if ad in dic_test :\n",
    "            dic_test[ad].append(file)\n",
    "        else :\n",
    "            dic_test[ad] = [file]\n",
    "for file, ad in zip(C1_list, C1_ad) :\n",
    "    if ad in AD_TRAIN : \n",
    "        if ad in dic_train :\n",
    "            dic_train[ad].append(file)\n",
    "        else : \n",
    "            dic_train[ad] = [file]\n",
    "    elif ad in AD_VAL : \n",
    "        if ad in dic_val :\n",
    "            dic_val[ad].append(file)\n",
    "        else : \n",
    "            dic_val[ad] = [file]\n",
    "    else : \n",
    "        if ad in dic_test :\n",
    "            dic_test[ad].append(file)\n",
    "        else : \n",
    "            dic_test[ad] = [file]"
   ]
  },
  {
   "cell_type": "markdown",
   "metadata": {},
   "source": [
    "## Adsorbates "
   ]
  },
  {
   "cell_type": "code",
   "execution_count": 30,
   "metadata": {},
   "outputs": [],
   "source": [
    "with open('train_files_ads.txt', 'w') as f:\n",
    "    for ad in dic_train : \n",
    "        for item in dic_train[ad]:\n",
    "            item = item+'.traj'\n",
    "            f.write(\"%s\\n\" % item)\n",
    "    f.close()\n",
    "    \n",
    "with open('val_files_ads.txt', 'w') as f:\n",
    "    for ad in dic_val : \n",
    "        for item in dic_val[ad]:\n",
    "            item = item+'.traj'\n",
    "            f.write(\"%s\\n\" % item)\n",
    "    f.close()\n",
    "with open('test_files_ads.txt', 'w') as f:\n",
    "    for ad in dic_test : \n",
    "        for item in dic_test[ad]:\n",
    "            item = item+'.traj'\n",
    "            f.write(\"%s\\n\" % item)\n",
    "    f.close()"
   ]
  },
  {
   "cell_type": "markdown",
   "metadata": {},
   "source": [
    "## Catalysts splits"
   ]
  },
  {
   "cell_type": "code",
   "execution_count": 17,
   "metadata": {},
   "outputs": [],
   "source": [
    "def get_catalysts(ads_list) :\n",
    "    UNARY = []\n",
    "    UNARY_file = []\n",
    "    BINARY = []\n",
    "    BINARY_file = []\n",
    "    BINARY_COMP = []\n",
    "    TERNARY = []\n",
    "    TERNARY_COMP = []\n",
    "    TERNARY_file = []\n",
    "\n",
    "    for system in ads_list:\n",
    "         # Extract Data object\n",
    "\n",
    "        id = system\n",
    "        ads = dic_data[id]['ads_symbols']\n",
    "        cata_raw = dic_data[id]['bulk_symbols']\n",
    "\n",
    "        comp = Composition(cata_raw)\n",
    "        formula = (comp.formula).split(' ')\n",
    "        for j in range(len(formula)) :\n",
    "             formula[j] = ''.join([i for i in formula[j] if not i.isdigit()])\n",
    "\n",
    "\n",
    "        reduced = result = ''.join([i for i in comp.reduced_formula if not i.isdigit()])\n",
    "\n",
    "        if len(formula) ==1 :\n",
    "            UNARY.append(reduced)\n",
    "            UNARY_file.append(system)\n",
    "        elif len(formula) == 2 :\n",
    "            BINARY.append(reduced)\n",
    "            BINARY_COMP.append(formula)\n",
    "            BINARY_file.append(system)\n",
    "        elif len(formula) == 3 :\n",
    "            TERNARY.append(reduced)\n",
    "            TERNARY_COMP.append(formula)  \n",
    "            TERNARY_file.append(system)\n",
    "    return (UNARY, UNARY_file), (BINARY, BINARY_file, BINARY_COMP), (TERNARY, TERNARY_file, TERNARY_COMP)"
   ]
  },
  {
   "cell_type": "code",
   "execution_count": 19,
   "metadata": {},
   "outputs": [
    {
     "data": {
      "text/plain": [
       "Text(0.5, 1.0, 'distribution of H unary catalysts')"
      ]
     },
     "execution_count": 19,
     "metadata": {},
     "output_type": "execute_result"
    },
    {
     "data": {
      "image/png": "[encoded data removed]",
      "text/plain": [
       "<Figure size 1080x576 with 1 Axes>"
      ]
     },
     "metadata": {
      "needs_background": "light"
     },
     "output_type": "display_data"
    }
   ],
   "source": [
    "(UNARY, UNARY_file), (BINARY, BINARY_file, BINARY_COMP), (TERNARY, TERNARY_file, TERNARY_COMP) = get_catalysts(dic_train['H'])\n",
    "uniques_h, count_h = np.unique(UNARY, return_counts=True)\n",
    "plt.figure(figsize=(15,8))\n",
    "plt.bar([ cat for cat in uniques_h], count_h, color='g')\n",
    "plt.title('distribution of H unary catalysts')"
   ]
  },
  {
   "cell_type": "code",
   "execution_count": 20,
   "metadata": {},
   "outputs": [
    {
     "data": {
      "text/plain": [
       "Text(0.5, 1.0, 'distribution of O unary catalysts')"
      ]
     },
     "execution_count": 20,
     "metadata": {},
     "output_type": "execute_result"
    },
    {
     "data": {
      "image/png": "[encoded data removed]",
      "text/plain": [
       "<Figure size 1080x576 with 1 Axes>"
      ]
     },
     "metadata": {
      "needs_background": "light"
     },
     "output_type": "display_data"
    }
   ],
   "source": [
    "(UNARY, UNARY_file), (BINARY, BINARY_file, BINARY_COMP), (TERNARY, TERNARY_file, TERNARY_COMP) = get_catalysts(dic_train['O'])\n",
    "uniques_o, count_o = np.unique(UNARY, return_counts=True)\n",
    "plt.figure(figsize=(15,8))\n",
    "plt.bar([ cat for cat in uniques_o], count_o, color='g')\n",
    "plt.title('distribution of O unary catalysts')"
   ]
  },
  {
   "cell_type": "code",
   "execution_count": 21,
   "metadata": {},
   "outputs": [
    {
     "data": {
      "text/plain": [
       "Text(0.5, 1.0, 'distribution of C unary catalysts')"
      ]
     },
     "execution_count": 21,
     "metadata": {},
     "output_type": "execute_result"
    },
    {
     "data": {
      "image/png": "[encoded data removed]",
      "text/plain": [
       "<Figure size 1080x576 with 1 Axes>"
      ]
     },
     "metadata": {
      "needs_background": "light"
     },
     "output_type": "display_data"
    }
   ],
   "source": [
    "(UNARY, UNARY_file), (BINARY, BINARY_file, BINARY_COMP), (TERNARY, TERNARY_file, TERNARY_COMP) = get_catalysts(dic_train['C'])\n",
    "uniques_c, count_c = np.unique(UNARY, return_counts=True)\n",
    "plt.figure(figsize=(15,8))\n",
    "plt.bar([ cat for cat in uniques_c], count_c, color='g')\n",
    "plt.title('distribution of C unary catalysts')"
   ]
  },
  {
   "cell_type": "markdown",
   "metadata": {},
   "source": [
    "\n",
    "## OOD Catalysts adsorbates  splits \n"
   ]
  },
  {
   "cell_type": "markdown",
   "metadata": {},
   "source": [
    "### Get val/test/train catalysts for H20 split"
   ]
  },
  {
   "cell_type": "code",
   "execution_count": 1,
   "metadata": {},
   "outputs": [],
   "source": [
    "train_file = '/Users/rimassouel/Documents/ocp/explo/h20/train_files.txt'\n",
    "val_file = '/Users/rimassouel/Documents/ocp/explo/h20/val_files.txt'\n",
    "test_file = '/Users/rimassouel/Documents/ocp/explo/h20/test_files.txt'"
   ]
  },
  {
   "cell_type": "code",
   "execution_count": 12,
   "metadata": {},
   "outputs": [],
   "source": [
    "def get_uniques_catalyst(file) :\n",
    "    \n",
    "    CATA = []\n",
    "    with open(file, 'r') as f :\n",
    "        lines = f.readlines()\n",
    "        \n",
    "        for l in lines : \n",
    "            id = l.replace('.traj\\n','')\n",
    "            cata_raw = dic_data[id]['bulk_symbols']\n",
    "            CATA.append(cata_raw)\n",
    "    return np.unique(CATA, return_counts = True)\n",
    "            \n",
    "           \n",
    "           "
   ]
  },
  {
   "cell_type": "code",
   "execution_count": 16,
   "metadata": {},
   "outputs": [],
   "source": [
    "train_catalysts, train_counts = get_uniques_catalyst(train_file)\n",
    "val_catalysts, val_counts = get_uniques_catalyst(val_file)\n",
    "test_catalysts, test_counts = get_uniques_catalyst(test_file)"
   ]
  },
  {
   "cell_type": "code",
   "execution_count": 25,
   "metadata": {},
   "outputs": [],
   "source": [
    "def filter_dic(dic, catalysts):\n",
    "    new_dic = {}\n",
    "    \n",
    "    for key in dic :\n",
    "        new_dic[key] = []\n",
    "        for traj in dic[key] :\n",
    "            cata_raw = dic_data[traj]['bulk_symbols']\n",
    "            if cata_raw in catalysts : \n",
    "                new_dic[key].append(traj)\n",
    "    return new_dic \n",
    "            "
   ]
  },
  {
   "cell_type": "code",
   "execution_count": 29,
   "metadata": {},
   "outputs": [],
   "source": [
    "dic_train_both = filter_dic(dic_train, train_catalysts)\n",
    "dic_val_both = filter_dic(dic_val, val_catalysts)\n",
    "dic_test_both = filter_dic(dic_test, test_catalysts)"
   ]
  },
  {
   "cell_type": "markdown",
   "metadata": {},
   "source": [
    "## DIC all ood catalysts"
   ]
  },
  {
   "cell_type": "code",
   "execution_count": 30,
   "metadata": {},
   "outputs": [],
   "source": [
    "dic_all = {}\n",
    "for file , ad in zip(OH_list, OH_ad) :\n",
    "\n",
    "    if ad in dic_all : \n",
    "        dic_all[ad].append(file)\n",
    "    else : dic_all[ad] = [file]\n",
    "for file , ad in zip(C1_list, C1_ad) :\n",
    "\n",
    "    if ad in dic_all : \n",
    "        dic_all[ad].append(file)\n",
    "    else : dic_all[ad] = [file]\n",
    "   "
   ]
  },
  {
   "cell_type": "code",
   "execution_count": 31,
   "metadata": {},
   "outputs": [],
   "source": [
    "dic_train_cat = filter_dic(dic_all, train_catalysts)\n",
    "dic_val_cat = filter_dic(dic_all, val_catalysts)\n",
    "dic_test_cat = filter_dic(dic_all, test_catalysts)"
   ]
  },
  {
   "cell_type": "markdown",
   "metadata": {},
   "source": [
    "#### Distributions in OOD catalysts splits"
   ]
  },
  {
   "cell_type": "code",
   "execution_count": 33,
   "metadata": {},
   "outputs": [
    {
     "name": "stdout",
     "output_type": "stream",
     "text": [
      "distribution in ood catalysts TRAIN\n",
      "H 4903\n",
      "OH 3689\n",
      "OH2 4173\n",
      "O 4686\n",
      "CH2 3892\n",
      "OCH3 3337\n",
      "C 4675\n",
      "CH4 2970\n",
      "CHOH 3179\n",
      "OHCH3 2721\n",
      "CH3 3436\n",
      "CH2O 3277\n",
      "CH2OH 2849\n"
     ]
    }
   ],
   "source": [
    "print('distribution in ood catalysts TRAIN')\n",
    "for key in dic_train_cat : \n",
    "    print(key, len(dic_train_cat[key]))"
   ]
  },
  {
   "cell_type": "code",
   "execution_count": 34,
   "metadata": {},
   "outputs": [
    {
     "name": "stdout",
     "output_type": "stream",
     "text": [
      "distribution in ood catalysts VAL\n",
      "H 1051\n",
      "OH 826\n",
      "OH2 1054\n",
      "O 1080\n",
      "CH2 837\n",
      "OCH3 739\n",
      "C 1055\n",
      "CH4 663\n",
      "CHOH 682\n",
      "OHCH3 637\n",
      "CH3 778\n",
      "CH2O 753\n",
      "CH2OH 715\n"
     ]
    }
   ],
   "source": [
    "print('distribution in ood catalysts VAL')\n",
    "for key in dic_val_cat : \n",
    "    print(key, len(dic_val_cat[key]))"
   ]
  },
  {
   "cell_type": "code",
   "execution_count": 35,
   "metadata": {},
   "outputs": [
    {
     "name": "stdout",
     "output_type": "stream",
     "text": [
      "distribution in ood catalysts TEST\n",
      "H 2134\n",
      "OH 1733\n",
      "OH2 2273\n",
      "O 2076\n",
      "CH2 1744\n",
      "OCH3 1471\n",
      "C 2056\n",
      "CH4 1371\n",
      "CHOH 1422\n",
      "OHCH3 1271\n",
      "CH3 1536\n",
      "CH2O 1500\n",
      "CH2OH 1365\n"
     ]
    }
   ],
   "source": [
    "print('distribution in ood catalysts TEST')\n",
    "for key in dic_test_cat : \n",
    "    print(key, len(dic_test_cat[key]))"
   ]
  },
  {
   "cell_type": "markdown",
   "metadata": {},
   "source": [
    "#### Distribution in OOD both splits"
   ]
  },
  {
   "cell_type": "code",
   "execution_count": 36,
   "metadata": {},
   "outputs": [
    {
     "name": "stdout",
     "output_type": "stream",
     "text": [
      "distribution in ood both TRAIN\n",
      "H 4903\n",
      "OH 3689\n",
      "O 4686\n",
      "CH2 3892\n",
      "C 4675\n",
      "CHOH 3179\n",
      "CH2O 3277\n"
     ]
    }
   ],
   "source": [
    "print('distribution in ood both TRAIN')\n",
    "for key in dic_train_both : \n",
    "    print(key, len(dic_train_both[key]))"
   ]
  },
  {
   "cell_type": "code",
   "execution_count": 37,
   "metadata": {},
   "outputs": [
    {
     "name": "stdout",
     "output_type": "stream",
     "text": [
      "distribution in ood both VAL\n",
      "OCH3 739\n",
      "CH3 778\n"
     ]
    }
   ],
   "source": [
    "print('distribution in ood both VAL')\n",
    "for key in dic_val_both : \n",
    "    print(key, len(dic_val_both[key]))"
   ]
  },
  {
   "cell_type": "code",
   "execution_count": 38,
   "metadata": {},
   "outputs": [
    {
     "name": "stdout",
     "output_type": "stream",
     "text": [
      "distribution in ood both TEST\n",
      "OH2 2273\n",
      "CH4 1371\n",
      "OHCH3 1271\n",
      "CH2OH 1365\n"
     ]
    }
   ],
   "source": [
    "print('distribution in ood both TEST')\n",
    "for key in dic_test_both : \n",
    "    print(key, len(dic_test_both[key]))"
   ]
  },
  {
   "cell_type": "code",
   "execution_count": 42,
   "metadata": {},
   "outputs": [],
   "source": [
    "with open('train_files_both.txt', 'w') as f:\n",
    "    for ad in dic_train_both : \n",
    "        for item in dic_train_both[ad]:\n",
    "            item = item+'.traj'\n",
    "            f.write(\"%s\\n\" % item)\n",
    "    f.close()\n",
    "    \n",
    "with open('val_files_both.txt', 'w') as f:\n",
    "    for ad in dic_val_both : \n",
    "        for item in dic_val_both[ad]:\n",
    "            item = item+'.traj'\n",
    "            f.write(\"%s\\n\" % item)\n",
    "    f.close()\n",
    "with open('test_files_both.txt', 'w') as f:\n",
    "    for ad in dic_test_both : \n",
    "        for item in dic_test_both[ad]:\n",
    "            item = item+'.traj'\n",
    "            f.write(\"%s\\n\" % item)\n",
    "    f.close()"
   ]
  },
  {
   "cell_type": "code",
   "execution_count": 43,
   "metadata": {},
   "outputs": [],
   "source": [
    "with open('train_files_cat.txt', 'w') as f:\n",
    "    for ad in dic_train_cat : \n",
    "        for item in dic_train_cat[ad]:\n",
    "            item = item+'.traj'\n",
    "            f.write(\"%s\\n\" % item)\n",
    "    f.close()\n",
    "    \n",
    "with open('val_files_cat.txt', 'w') as f:\n",
    "    for ad in dic_val_cat : \n",
    "        for item in dic_val_cat[ad]:\n",
    "            item = item+'.traj'\n",
    "            f.write(\"%s\\n\" % item)\n",
    "    f.close()\n",
    "with open('test_files_cat.txt', 'w') as f:\n",
    "    for ad in dic_test_cat : \n",
    "        for item in dic_test_cat[ad]:\n",
    "            item = item+'.traj'\n",
    "            f.write(\"%s\\n\" % item)\n",
    "    f.close()"
   ]
  },
  {
   "cell_type": "code",
   "execution_count": null,
   "metadata": {},
   "outputs": [],
   "source": []
  }
 ],
 "metadata": {
  "kernelspec": {
   "display_name": "ocp-models",
   "language": "python",
   "name": "ocp-models"
  },
  "language_info": {
   "codemirror_mode": {
    "name": "ipython",
    "version": 3
   },
   "file_extension": ".py",
   "mimetype": "text/x-python",
   "name": "python",
   "nbconvert_exporter": "python",
   "pygments_lexer": "ipython3",
   "version": "3.6.13"
  }
 },
 "nbformat": 4,
 "nbformat_minor": 4
}
