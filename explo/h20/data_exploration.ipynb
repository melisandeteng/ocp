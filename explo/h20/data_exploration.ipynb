{
 "cells": [
  {
   "cell_type": "code",
   "execution_count": 2,
   "metadata": {},
   "outputs": [],
   "source": [
    "import pickle\n",
    "import numpy as np\n",
    "import ase.io\n",
    "from ase.io import extxyz\n",
    "from ase.build import fcc100, add_adsorbate, molecule\n",
    "from ase import Atoms\n",
    "from ase.calculators.emt import EMT\n",
    "from ase.visualize.plot import plot_atoms\n",
    "import matplotlib.pyplot as plt\n",
    "import os\n",
    "\n",
    "import ase.io\n",
    "from ase.build import bulk\n",
    "from ase.build import fcc100, add_adsorbate, molecule\n",
    "from ase.constraints import FixAtoms\n",
    "from ase.calculators.emt import EMT\n",
    "from ase.optimize import BFGS\n",
    "import matplotlib.pyplot as plt\n",
    "import lmdb\n",
    "import pickle\n",
    "from tqdm import tqdm\n",
    "import torch\n",
    "import os\n",
    "from pymatgen.core.composition import Composition\n",
    "from ocpmodels.preprocessing import AtomsToGraphs\n",
    "from ocpmodels.datasets import SinglePointLmdbDataset, TrajectoryLmdbDataset\n",
    "dic_ads = pickle.load(open('/Users/rimassouel/Documents/ocp/explo/mapping_adslab_slab.pkl','rb'))\n",
    "dic_data = pickle.load(open('/Users/rimassouel/Documents/ocp/explo/oc20_data_mapping.pkl','rb'))\n"
   ]
  },
  {
   "cell_type": "code",
   "execution_count": 3,
   "metadata": {},
   "outputs": [],
   "source": [
    "def filter_comp(COMP, CATA, uniques):\n",
    "    here = True\n",
    "    filtered = []\n",
    "    for cata, comp in zip(CATA,COMP) :\n",
    "        for elem in comp :\n",
    "              if elem not in uniques :\n",
    "                     here = False\n",
    "\n",
    "\n",
    "        if here : \n",
    "            filtered.append(cata)\n",
    "            \n",
    "        here = True\n",
    "  \n",
    "    return filtered\n",
    "\n",
    "def parse_comp(COMP, uniques) :\n",
    "        dic = {}\n",
    "        total = 0\n",
    "        here = True\n",
    "        for cata in COMP :\n",
    "            for elem in cata :\n",
    "                if elem not in uniques :\n",
    "                    here = False\n",
    "    \n",
    "                    if elem in dic : dic[elem] +=1\n",
    "                    else : dic[elem] = 1\n",
    "            if not here : total+=1\n",
    "            here = True\n",
    "    \n",
    "    \n",
    "    \n",
    "        return dic, total\n",
    "def get_element_distribution_all(COMP):\n",
    "    count_ = {}\n",
    "    for cata in COMP :\n",
    "          for elem in cata :\n",
    "                    if elem in count_:\n",
    "        \n",
    "                        count_[elem] +=1\n",
    "                    else : count_[elem] = 1\n",
    "                  \n",
    "    return count_\n",
    "\n",
    "\n",
    "\n"
   ]
  },
  {
   "cell_type": "markdown",
   "metadata": {},
   "source": [
    "# Catalysts type and composition parsing\n"
   ]
  },
  {
   "cell_type": "code",
   "execution_count": 4,
   "metadata": {},
   "outputs": [],
   "source": [
    "system_paths = os.listdir('/Users/rimassouel/Documents/ocp/explo/h20/data/') # path to uncompressed H20 trajectories files\n",
    "idx = 0\n",
    "UNARY = []\n",
    "UNARY_file = []\n",
    "BINARY = []\n",
    "BINARY_file = []\n",
    "BINARY_COMP = []\n",
    "TERNARY = []\n",
    "TERNARY_COMP = []\n",
    "TERNARY_file = []\n",
    " \n",
    "for system in system_paths:\n",
    "     # Extract Data object\n",
    " \n",
    " \n",
    "    id = system.replace('.traj', '')\n",
    "    ads = dic_data[id]['ads_symbols']\n",
    "    cata_raw = dic_data[id]['bulk_symbols']\n",
    " \n",
    "    comp = Composition(cata_raw)\n",
    "    formula = (comp.formula).split(' ')\n",
    "    for j in range(len(formula)) :\n",
    "         formula[j] = ''.join([i for i in formula[j] if not i.isdigit()])\n",
    " \n",
    " \n",
    "    reduced = result = ''.join([i for i in comp.reduced_formula if not i.isdigit()])\n",
    " \n",
    "    if len(formula) ==1 :\n",
    "        UNARY.append(reduced)\n",
    "        UNARY_file.append(system)\n",
    "    elif len(formula) == 2 :\n",
    "        BINARY.append(reduced)\n",
    "        BINARY_COMP.append(formula)\n",
    "        BINARY_file.append(system)\n",
    "    elif len(formula) == 3 :\n",
    "        TERNARY.append(reduced)\n",
    "        TERNARY_COMP.append(formula)  \n",
    "        TERNARY_file.append(system)\n"
   ]
  },
  {
   "cell_type": "code",
   "execution_count": 5,
   "metadata": {},
   "outputs": [
    {
     "name": "stdout",
     "output_type": "stream",
     "text": [
      "Number of trajectories with unary catalyts 436\n",
      "Unique number of unary catalyts : 46\n",
      "Number of trajectories with ternary catalyts 2625\n",
      "Unique number of ternary catalyts :1735\n",
      "Number of trajectories with binary catalyts 4975\n",
      "Unique number of binary catalyts :719\n"
     ]
    }
   ],
   "source": [
    "uniques, counts = np.unique(UNARY, return_counts = True)\n",
    "UNIQUES = uniques\n",
    "COUNTS = counts\n",
    "\n",
    "print('Number of trajectories with unary catalyts '+str(len(UNARY)))\n",
    "print('Unique number of unary catalyts : '+str(len(uniques)))\n",
    "\n",
    "uniques, counts = np.unique(TERNARY, return_counts = True)\n",
    " \n",
    "print('Number of trajectories with ternary catalyts '+str(len(TERNARY)))\n",
    "print('Unique number of ternary catalyts :'+str(len(uniques)))\n",
    "uniques, counts = np.unique(BINARY, return_counts = True)\n",
    " \n",
    "print('Number of trajectories with binary catalyts '+str(len(BINARY)))\n",
    "print('Unique number of binary catalyts :'+str(len(uniques)))"
   ]
  },
  {
   "cell_type": "markdown",
   "metadata": {},
   "source": [
    "# Unary catalysts distribution"
   ]
  },
  {
   "cell_type": "code",
   "execution_count": 6,
   "metadata": {},
   "outputs": [
    {
     "data": {
      "text/plain": [
       "<BarContainer object of 46 artists>"
      ]
     },
     "execution_count": 6,
     "metadata": {},
     "output_type": "execute_result"
    },
    {
     "data": {
      "image/png": "[encoded data removed]",
      "text/plain": [
       "<Figure size 1080x576 with 1 Axes>"
      ]
     },
     "metadata": {
      "needs_background": "light"
     },
     "output_type": "display_data"
    }
   ],
   "source": [
    "repet = {}\n",
    "for el, c in zip(UNIQUES, COUNTS):\n",
    "     repet[el] = c\n",
    "plt.figure(figsize=(15,8))\n",
    "plt.bar([ str(i) for i in repet.keys()], repet.values(), color='g')\n",
    "\n",
    "\n"
   ]
  },
  {
   "cell_type": "markdown",
   "metadata": {},
   "source": [
    "# Composite Catalysts representation - ALL"
   ]
  },
  {
   "cell_type": "code",
   "execution_count": 7,
   "metadata": {},
   "outputs": [
    {
     "data": {
      "text/plain": [
       "Text(0.5, 1.0, 'elements distributions in all binary catalysts')"
      ]
     },
     "execution_count": 7,
     "metadata": {},
     "output_type": "execute_result"
    },
    {
     "data": {
      "image/png": "[encoded data removed]",
      "text/plain": [
       "<Figure size 1080x576 with 1 Axes>"
      ]
     },
     "metadata": {
      "needs_background": "light"
     },
     "output_type": "display_data"
    }
   ],
   "source": [
    "dic_bin = get_element_distribution_all(BINARY_COMP)\n",
    "plt.figure(figsize=(15,8))\n",
    "plt.bar([ str(i) for i in dic_bin.keys()], dic_bin.values(), color='g')\n",
    "plt.title('elements distributions in all binary catalysts')"
   ]
  },
  {
   "cell_type": "code",
   "execution_count": 8,
   "metadata": {},
   "outputs": [
    {
     "data": {
      "text/plain": [
       "Text(0.5, 1.0, 'elements distributions in all ternary catalysts')"
      ]
     },
     "execution_count": 8,
     "metadata": {},
     "output_type": "execute_result"
    },
    {
     "data": {
      "image/png": "[encoded data removed]",
      "text/plain": [
       "<Figure size 1080x576 with 1 Axes>"
      ]
     },
     "metadata": {
      "needs_background": "light"
     },
     "output_type": "display_data"
    }
   ],
   "source": [
    "dic_tern = get_element_distribution_all(TERNARY_COMP)\n",
    "plt.figure(figsize=(15,8))\n",
    "plt.bar([ str(i) for i in dic_tern.keys()], dic_tern.values(), color='g')\n",
    "plt.title('elements distributions in all ternary catalysts')\n"
   ]
  },
  {
   "cell_type": "markdown",
   "metadata": {},
   "source": [
    "# Composite Catalysts representation - REPRESENTED ONLY"
   ]
  },
  {
   "cell_type": "code",
   "execution_count": 9,
   "metadata": {},
   "outputs": [],
   "source": [
    "count = {}\n",
    "for el in UNIQUES:\n",
    "     count[el] = 0\n",
    "def get_element_distribution_rep(COMP):\n",
    "    count_ = count.copy()\n",
    "    for cata in COMP :\n",
    "          for elem in cata :\n",
    "                    if elem in count_:\n",
    "        \n",
    "                        count_[elem] +=1\n",
    "                  \n",
    "    return count_"
   ]
  },
  {
   "cell_type": "code",
   "execution_count": 10,
   "metadata": {},
   "outputs": [
    {
     "data": {
      "text/plain": [
       "Text(0.5, 1.0, 'represented binary catalysts elements distribution')"
      ]
     },
     "execution_count": 10,
     "metadata": {},
     "output_type": "execute_result"
    },
    {
     "data": {
      "image/png": "[encoded data removed]",
      "text/plain": [
       "<Figure size 1080x576 with 1 Axes>"
      ]
     },
     "metadata": {
      "needs_background": "light"
     },
     "output_type": "display_data"
    }
   ],
   "source": [
    "dic_bin_filter = get_element_distribution_rep(BINARY_COMP)\n",
    "plt.figure(figsize=(15,8))\n",
    "plt.bar([ str(i) for i in dic_bin_filter.keys()], dic_bin_filter.values(), color='g')\n",
    "plt.title('represented binary catalysts elements distribution')\n"
   ]
  },
  {
   "cell_type": "code",
   "execution_count": 11,
   "metadata": {},
   "outputs": [
    {
     "data": {
      "text/plain": [
       "Text(0.5, 1.0, 'represented tenary catalysts elements distribution')"
      ]
     },
     "execution_count": 11,
     "metadata": {},
     "output_type": "execute_result"
    },
    {
     "data": {
      "image/png": "[encoded data removed]",
      "text/plain": [
       "<Figure size 1080x576 with 1 Axes>"
      ]
     },
     "metadata": {
      "needs_background": "light"
     },
     "output_type": "display_data"
    }
   ],
   "source": [
    "dic_tern_filter = get_element_distribution_rep(TERNARY_COMP)\n",
    "plt.figure(figsize=(15,8))\n",
    "plt.bar([ str(i) for i in dic_tern_filter.keys()], dic_tern_filter.values(), color='g')\n",
    "plt.title('represented tenary catalysts elements distribution')\n",
    "\n"
   ]
  },
  {
   "cell_type": "markdown",
   "metadata": {},
   "source": [
    "## Non-represented elements in binary/ternary catalysts"
   ]
  },
  {
   "cell_type": "code",
   "execution_count": 12,
   "metadata": {},
   "outputs": [
    {
     "data": {
      "text/plain": [
       "Text(0.5, 1.0, 'non represented elemnts in ternary catalysts')"
      ]
     },
     "execution_count": 12,
     "metadata": {},
     "output_type": "execute_result"
    },
    {
     "data": {
      "image/png": "[encoded data removed]",
      "text/plain": [
       "<Figure size 576x360 with 1 Axes>"
      ]
     },
     "metadata": {
      "needs_background": "light"
     },
     "output_type": "display_data"
    }
   ],
   "source": [
    "ne_tern, total_tern = parse_comp(TERNARY_COMP, UNIQUES)\n",
    "tot = len(TERNARY_COMP)\n",
    "plt.figure(figsize=(8,5))\n",
    "plt.bar([ str(i) for i in ne_tern.keys()], ne_tern.values(), color='g')\n",
    "plt.title('non represented elemnts in ternary catalysts')\n",
    "\n"
   ]
  },
  {
   "cell_type": "code",
   "execution_count": 13,
   "metadata": {},
   "outputs": [
    {
     "data": {
      "text/plain": [
       "Text(0.5, 1.0, 'non represented elemnts in binary catalysts ')"
      ]
     },
     "execution_count": 13,
     "metadata": {},
     "output_type": "execute_result"
    },
    {
     "data": {
      "image/png": "[encoded data removed]",
      "text/plain": [
       "<Figure size 576x360 with 1 Axes>"
      ]
     },
     "metadata": {
      "needs_background": "light"
     },
     "output_type": "display_data"
    }
   ],
   "source": [
    "ne_bin, total_bin = parse_comp(BINARY_COMP, UNIQUES)\n",
    "tot = len(BINARY_COMP)\n",
    "plt.figure(figsize=(8,5))\n",
    "plt.bar([ str(i) for i in ne_bin.keys()], ne_bin.values(), color='g')\n",
    "plt.title('non represented elemnts in binary catalysts ')\n",
    "\n"
   ]
  },
  {
   "cell_type": "markdown",
   "metadata": {},
   "source": [
    "# Splits definition"
   ]
  },
  {
   "cell_type": "code",
   "execution_count": 14,
   "metadata": {},
   "outputs": [],
   "source": [
    "def filter_files_represented(COMP, FILES):\n",
    "        new_files = []\n",
    "    \n",
    "        here = True\n",
    "        for cata, file in zip(COMP, FILES) :\n",
    "            for elem in cata :\n",
    "                \n",
    "                if elem not in UNIQUES :\n",
    "                    here = False     \n",
    "            if here :  new_files.append(file)\n",
    "            here = True\n",
    "        return new_files\n",
    "    "
   ]
  },
  {
   "cell_type": "code",
   "execution_count": 15,
   "metadata": {},
   "outputs": [],
   "source": [
    "REP_BIN = filter_files_represented(BINARY_COMP, BINARY_file)\n",
    "REP_TER = filter_files_represented(TERNARY_COMP, TERNARY_file)"
   ]
  },
  {
   "cell_type": "code",
   "execution_count": 16,
   "metadata": {},
   "outputs": [
    {
     "name": "stdout",
     "output_type": "stream",
     "text": [
      "3380\n",
      "1303\n",
      "436\n"
     ]
    }
   ],
   "source": [
    "print(len(REP_BIN))\n",
    "print(len(REP_TER))\n",
    "print(len(UNARY_file))"
   ]
  },
  {
   "cell_type": "code",
   "execution_count": 17,
   "metadata": {},
   "outputs": [],
   "source": [
    "import random\n",
    "def get_splits(unary, binary, ternary, val_ = 10, test_ = 20):\n",
    "    train = []\n",
    "    val = []\n",
    "    test = []\n",
    "    \n",
    "    bin_len = len(binary)\n",
    "    ter_len = len(ternary)\n",
    "    \n",
    "    val_num_bin = int((val_*bin_len/100))\n",
    "    val_num_ter = int((val_*ter_len/100))\n",
    "    \n",
    "    test_num_bin = int((test_*bin_len/100))\n",
    "    test_num_ter = int((test_*ter_len/100))\n",
    "    \n",
    "    \n",
    "    train.extend(unary)\n",
    "    \n",
    "    \n",
    "    random.shuffle(binary)\n",
    "    random.shuffle(ternary)\n",
    "    shuffled_bin = binary\n",
    "    shuffled_ter = ternary\n",
    "    \n",
    "    bin_val = shuffled_bin[:val_num_bin]\n",
    "    ter_val = shuffled_ter[:val_num_ter]\n",
    "    \n",
    "    bin_test = shuffled_bin[val_num_bin:val_num_bin + test_num_bin]\n",
    "    ter_test = shuffled_ter[val_num_ter:val_num_ter + test_num_bin]\n",
    "    \n",
    "    bin_train = shuffled_bin[val_num_bin + test_num_bin:]\n",
    "    ter_train = shuffled_ter[val_num_ter + test_num_ter:]\n",
    "    \n",
    "    train.extend(bin_train)\n",
    "    train.extend(ter_train)\n",
    "    val.extend(bin_val)\n",
    "    val.extend(ter_val)\n",
    "    test.extend(bin_test)\n",
    "    test.extend(ter_test)\n",
    "    \n",
    "    return train, val,test\n",
    "    \n",
    "    \n",
    "\n",
    "\n",
    "    \n",
    "    "
   ]
  },
  {
   "cell_type": "code",
   "execution_count": 18,
   "metadata": {},
   "outputs": [],
   "source": [
    "train, val, test = get_splits(UNARY_file, REP_BIN, REP_TER)"
   ]
  },
  {
   "cell_type": "code",
   "execution_count": 19,
   "metadata": {},
   "outputs": [
    {
     "name": "stdout",
     "output_type": "stream",
     "text": [
      "3715\n",
      "468\n",
      "1352\n"
     ]
    }
   ],
   "source": [
    "print(len(train))\n",
    "print(len(val))\n",
    "print(len(test))"
   ]
  },
  {
   "cell_type": "code",
   "execution_count": 20,
   "metadata": {},
   "outputs": [],
   "source": [
    "with open('train_files.txt', 'w') as f:\n",
    "    for item in train:\n",
    "        f.write(\"%s\\n\" % item)\n",
    "    f.close()\n",
    "    \n",
    "with open('val_files.txt', 'w') as f:\n",
    "    for item in val:\n",
    "        f.write(\"%s\\n\" % item)\n",
    "    f.close()\n",
    "with open('test_files.txt', 'w') as f:\n",
    "    for item in test:\n",
    "        f.write(\"%s\\n\" % item)\n",
    "    f.close()"
   ]
  },
  {
   "cell_type": "code",
   "execution_count": 24,
   "metadata": {},
   "outputs": [],
   "source": [
    "for item in val : \n",
    "    if not os.path.isfile('/Users/rimassouel/Documents/ocp/explo/h20/data/'+item) : \n",
    "        print(item)\n",
    "for item in test : \n",
    "    if not os.path.isfile('/Users/rimassouel/Documents/ocp/explo/h20/data/'+item) : \n",
    "        print(item)\n",
    "for item in train : \n",
    "    if not os.path.isfile('/Users/rimassouel/Documents/ocp/explo/h20/data/'+item) : \n",
    "        print(item)"
   ]
  },
  {
   "cell_type": "code",
   "execution_count": null,
   "metadata": {},
   "outputs": [],
   "source": []
  }
 ],
 "metadata": {
  "kernelspec": {
   "display_name": "ocp-models",
   "language": "python",
   "name": "ocp-models"
  },
  "language_info": {
   "codemirror_mode": {
    "name": "ipython",
    "version": 3
   },
   "file_extension": ".py",
   "mimetype": "text/x-python",
   "name": "python",
   "nbconvert_exporter": "python",
   "pygments_lexer": "ipython3",
   "version": "3.6.13"
  }
 },
 "nbformat": 4,
 "nbformat_minor": 1
}
